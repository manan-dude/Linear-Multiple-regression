{
 "cells": [
  {
   "cell_type": "markdown",
   "id": "b7185288",
   "metadata": {},
   "source": [
    "y = 2x+3\n",
    "where x = 1,2,3,4,5\n",
    "and from that we get y as\n",
    "5,7,9,11,13"
   ]
  },
  {
   "cell_type": "markdown",
   "id": "2ca43f23",
   "metadata": {},
   "source": [
    "so what if we have value of set x and value of set y and predict the equation from the set"
   ]
  },
  {
   "cell_type": "markdown",
   "id": "951fa282",
   "metadata": {},
   "source": [
    "## Mean Squared Function\n",
    "\n",
    "**There are so many lines which gives the equations so we calculate the sum of the square of the error from the predicted to the real y value it is also called a cost function**"
   ]
  },
  {
   "cell_type": "markdown",
   "id": "39be9522",
   "metadata": {},
   "source": [
    "## Gradient Descent\n",
    "It is the algorithm that finds the best line for the given training set "
   ]
  },
  {
   "cell_type": "markdown",
   "id": "f622f147",
   "metadata": {},
   "source": [
    "### y = mx+b we will find m and b as per we are given with multiple values of x and y"
   ]
  },
  {
   "cell_type": "code",
   "execution_count": 1,
   "id": "e8196372",
   "metadata": {},
   "outputs": [],
   "source": [
    "import numpy as np"
   ]
  },
  {
   "cell_type": "code",
   "execution_count": 61,
   "id": "726e7898",
   "metadata": {},
   "outputs": [],
   "source": [
    "def gradient_descent(x,y):\n",
    "    m_curr=b_curr=0 #initial value\n",
    "    iterations = 100 # how many baby steps or assumptions you will take\n",
    "    n = len(x) # no of points \n",
    "    learning_rate = 0.06\n",
    "    for i in range (iterations):\n",
    "        y_predicted = m_curr*x+b_curr\n",
    "        # m derivative small change in the graph\n",
    "        md =  -(2/n)*sum(x*(y-y_predicted))\n",
    "        bd = -(2/n)*sum(x*(y-y_predicted))\n",
    "        m_curr = m_curr - learning_rate*md ## on which scale it take the steps\n",
    "        b_curr = b_curr - learning_rate*bd\n",
    "        \n",
    "        # for finding out you are going in the right direction or not cost function\n",
    "        cost = (1/n)* sum([val**2 for val in (y-y_predicted)])\n",
    "        \n",
    "        print(\"m {},b {},cost {} iteration {}\".format(m_curr,b_curr,cost ,i))\n",
    "         \n",
    "    \n",
    "    "
   ]
  },
  {
   "cell_type": "code",
   "execution_count": 62,
   "id": "adde3492",
   "metadata": {},
   "outputs": [],
   "source": [
    "x = np.array([1,2,3,4,5])\n",
    "y =np.array([5,7,9,11,13])"
   ]
  },
  {
   "cell_type": "code",
   "execution_count": 63,
   "id": "c099180f",
   "metadata": {},
   "outputs": [
    {
     "name": "stdout",
     "output_type": "stream",
     "text": [
      "m 3.7199999999999998,b 3.7199999999999998,cost 89.0 iteration 0\n",
      "m 1.1904,b 1.1904,cost 40.491199999999985 iteration 1\n",
      "m 2.9105280000000002,b 2.9105280000000002,cost 19.274938880000004 iteration 2\n",
      "m 1.7408409599999999,b 1.7408409599999999,cost 8.638878298112003 iteration 3\n",
      "m 2.5362281472,b 2.5362281472,cost 4.282213664246991 iteration 4\n",
      "m 1.9953648599040004,b 1.9953648599040004,cost 1.8859060876918066 iteration 5\n",
      "m 2.3631518952652795,b 2.3631518952652795,cost 1.0374678421947685 iteration 6\n",
      "m 2.11305671121961,b 2.11305671121961,cost 0.46861222050352486 iteration 7\n",
      "m 2.2831214363706653,b 2.2831214363706653,cost 0.3256190693754168 iteration 8\n",
      "m 2.1674774232679477,b 2.1674774232679477,cost 0.17786796822127393 iteration 9\n",
      "m 2.246115352177796,b 2.246115352177796,cost 0.16505698533690208 iteration 10\n",
      "m 2.1926415605190988,b 2.1926415605190988,cost 0.1213869809744419 iteration 11\n",
      "m 2.2290037388470125,b 2.2290037388470125,cost 0.12686139095341462 iteration 12\n",
      "m 2.2042774575840314,b 2.2042774575840314,cost 0.11193891253029263 iteration 13\n",
      "m 2.221091328842859,b 2.221091328842859,cost 0.11690737351367209 iteration 14\n",
      "m 2.2096578963868554,b 2.2096578963868554,cost 0.11113413166815014 iteration 15\n",
      "m 2.2174326304569387,b 2.2174326304569387,cost 0.1139526322176617 iteration 16\n",
      "m 2.2121458112892816,b 2.2121458112892816,cost 0.11152403451811642 iteration 17\n",
      "m 2.2157408483232883,b 2.2157408483232883,cost 0.11293872414232209 iteration 18\n",
      "m 2.213296223140164,b 2.213296223140164,cost 0.11186725884823141 iteration 19\n",
      "m 2.2149585682646884,b 2.2149585682646884,cost 0.11254523338414345 iteration 20\n",
      "m 2.213828173580012,b 2.213828173580012,cost 0.11206080314977729 iteration 21\n",
      "m 2.2145968419655917,b 2.2145968419655917,cost 0.11237939205805136 iteration 22\n",
      "m 2.214074147463398,b 2.214074147463398,cost 0.11215774674415868 iteration 23\n",
      "m 2.2144295797248894,b 2.2144295797248894,cost 0.1123061513120681 iteration 24\n",
      "m 2.214187885787075,b 2.214187885787075,cost 0.11220416609875339 iteration 25\n",
      "m 2.214352237664789,b 2.214352237664789,cost 0.11227302122626731 iteration 26\n",
      "m 2.2142404783879432,b 2.2142404783879432,cost 0.11222597093592737 iteration 27\n",
      "m 2.2143164746961985,b 2.2143164746961985,cost 0.11225785933455984 iteration 28\n",
      "m 2.2142647972065848,b 2.2142647972065848,cost 0.11223612630212543 iteration 29\n",
      "m 2.214299937899522,b 2.214299937899522,cost 0.11225088214294215 iteration 30\n",
      "m 2.214276042228325,b 2.214276042228325,cost 0.11224083771112572 iteration 31\n",
      "m 2.214292291284739,b 2.214292291284739,cost 0.11224766308802868 iteration 32\n",
      "m 2.2142812419263773,b 2.2142812419263773,cost 0.11224301959522971 iteration 33\n",
      "m 2.214288755490063,b 2.214288755490063,cost 0.11224617613617305 iteration 34\n",
      "m 2.214283646266757,b 2.214283646266757,cost 0.11224402921013606 iteration 35\n",
      "m 2.214287120538605,b 2.214287120538605,cost 0.11224548889872371 iteration 36\n",
      "m 2.2142847580337484,b 2.2142847580337484,cost 0.1122444962082395 iteration 37\n",
      "m 2.214286364537051,b 2.214286364537051,cost 0.11224517119049078 iteration 38\n",
      "m 2.214285272114805,b 2.214285272114805,cost 0.11224471218069812 iteration 39\n",
      "m 2.2142860149619326,b 2.2142860149619326,cost 0.11224502429724859 iteration 40\n",
      "m 2.2142855098258862,b 2.2142855098258862,cost 0.11224481205331985 iteration 41\n",
      "m 2.214285853318397,b 2.214285853318397,cost 0.11224495637703005 iteration 42\n",
      "m 2.2142856197434897,b 2.2142856197434897,cost 0.11224485823590813 iteration 43\n",
      "m 2.2142857785744274,b 2.2142857785744274,cost 0.1122449249714085 iteration 44\n",
      "m 2.214285670569389,b 2.214285670569389,cost 0.11224487959105454 iteration 45\n",
      "m 2.2142857440128156,b 2.2142857440128156,cost 0.11224491044959649 iteration 46\n",
      "m 2.214285694071285,b 2.214285694071285,cost 0.11224488946574224 iteration 47\n",
      "m 2.2142857280315256,b 2.2142857280315256,cost 0.11224490373474244 iteration 48\n",
      "m 2.214285704938563,b 2.214285704938563,cost 0.11224489403181225 iteration 49\n",
      "m 2.214285720641777,b 2.214285720641777,cost 0.11224490062979993 iteration 50\n",
      "m 2.2142857099635913,b 2.2142857099635913,cost 0.1122448961431666 iteration 51\n",
      "m 2.214285717224758,b 2.214285717224758,cost 0.11224489919407608 iteration 52\n",
      "m 2.2142857122871646,b 2.2142857122871646,cost 0.11224489711945702 iteration 53\n",
      "m 2.214285715644728,b 2.214285715644728,cost 0.11224489853019792 iteration 54\n",
      "m 2.2142857133615848,b 2.2142857133615848,cost 0.11224489757089384 iteration 55\n",
      "m 2.2142857149141224,b 2.2142857149141224,cost 0.11224489822322088 iteration 56\n",
      "m 2.2142857138583967,b 2.2142857138583967,cost 0.1122448977796387 iteration 57\n",
      "m 2.2142857145762904,b 2.2142857145762904,cost 0.11224489808127443 iteration 58\n",
      "m 2.2142857140881227,b 2.2142857140881227,cost 0.11224489787616175 iteration 59\n",
      "m 2.2142857144200767,b 2.2142857144200767,cost 0.11224489801563822 iteration 60\n",
      "m 2.2142857141943475,b 2.2142857141943475,cost 0.1122448979207946 iteration 61\n",
      "m 2.214285714347844,b 2.214285714347844,cost 0.11224489798528824 iteration 62\n",
      "m 2.2142857142434664,b 2.2142857142434664,cost 0.1122448979414322 iteration 63\n",
      "m 2.214285714314443,b 2.214285714314443,cost 0.1122448979712545 iteration 64\n",
      "m 2.214285714266179,b 2.214285714266179,cost 0.11224489795097528 iteration 65\n",
      "m 2.2142857142989985,b 2.2142857142989985,cost 0.11224489796476521 iteration 66\n",
      "m 2.2142857142766807,b 2.2142857142766807,cost 0.11224489795538839 iteration 67\n",
      "m 2.214285714291857,b 2.214285714291857,cost 0.11224489796176469 iteration 68\n",
      "m 2.214285714281537,b 2.214285714281537,cost 0.11224489795742883 iteration 69\n",
      "m 2.214285714288555,b 2.214285714288555,cost 0.1122448979603774 iteration 70\n",
      "m 2.214285714283783,b 2.214285714283783,cost 0.11224489795837188 iteration 71\n",
      "m 2.2142857142870276,b 2.2142857142870276,cost 0.11224489795973527 iteration 72\n",
      "m 2.214285714284821,b 2.214285714284821,cost 0.11224489795880864 iteration 73\n",
      "m 2.214285714286322,b 2.214285714286322,cost 0.11224489795943869 iteration 74\n",
      "m 2.214285714285301,b 2.214285714285301,cost 0.1122448979590103 iteration 75\n",
      "m 2.214285714285995,b 2.214285714285995,cost 0.11224489795930195 iteration 76\n",
      "m 2.214285714285523,b 2.214285714285523,cost 0.1122448979591037 iteration 77\n",
      "m 2.214285714285844,b 2.214285714285844,cost 0.11224489795923852 iteration 78\n",
      "m 2.2142857142856265,b 2.2142857142856265,cost 0.11224489795914637 iteration 79\n",
      "m 2.214285714285774,b 2.214285714285774,cost 0.11224489795920876 iteration 80\n",
      "m 2.2142857142856736,b 2.2142857142856736,cost 0.11224489795916665 iteration 81\n",
      "m 2.2142857142857424,b 2.2142857142857424,cost 0.11224489795919511 iteration 82\n",
      "m 2.2142857142856953,b 2.2142857142856953,cost 0.11224489795917547 iteration 83\n",
      "m 2.214285714285727,b 2.214285714285727,cost 0.1122448979591893 iteration 84\n",
      "m 2.214285714285706,b 2.214285714285706,cost 0.11224489795917987 iteration 85\n",
      "m 2.2142857142857197,b 2.2142857142857197,cost 0.11224489795918624 iteration 86\n",
      "m 2.214285714285711,b 2.214285714285711,cost 0.1122448979591819 iteration 87\n",
      "m 2.214285714285716,b 2.214285714285716,cost 0.1122448979591849 iteration 88\n",
      "m 2.214285714285713,b 2.214285714285713,cost 0.1122448979591829 iteration 89\n",
      "m 2.214285714285715,b 2.214285714285715,cost 0.1122448979591842 iteration 90\n",
      "m 2.214285714285714,b 2.214285714285714,cost 0.11224489795918369 iteration 91\n",
      "m 2.2142857142857144,b 2.2142857142857144,cost 0.1122448979591836 iteration 92\n",
      "m 2.214285714285714,b 2.214285714285714,cost 0.11224489795918387 iteration 93\n",
      "m 2.2142857142857144,b 2.2142857142857144,cost 0.1122448979591836 iteration 94\n",
      "m 2.214285714285714,b 2.214285714285714,cost 0.11224489795918387 iteration 95\n",
      "m 2.2142857142857144,b 2.2142857142857144,cost 0.1122448979591836 iteration 96\n",
      "m 2.214285714285714,b 2.214285714285714,cost 0.11224489795918387 iteration 97\n",
      "m 2.2142857142857144,b 2.2142857142857144,cost 0.1122448979591836 iteration 98\n",
      "m 2.214285714285714,b 2.214285714285714,cost 0.11224489795918387 iteration 99\n"
     ]
    }
   ],
   "source": [
    "gradient_descent(x,y)"
   ]
  },
  {
   "cell_type": "code",
   "execution_count": null,
   "id": "d98f5950",
   "metadata": {},
   "outputs": [],
   "source": []
  },
  {
   "cell_type": "code",
   "execution_count": null,
   "id": "3749c83b",
   "metadata": {},
   "outputs": [],
   "source": []
  }
 ],
 "metadata": {
  "kernelspec": {
   "display_name": "Python 3",
   "language": "python",
   "name": "python3"
  },
  "language_info": {
   "codemirror_mode": {
    "name": "ipython",
    "version": 3
   },
   "file_extension": ".py",
   "mimetype": "text/x-python",
   "name": "python",
   "nbconvert_exporter": "python",
   "pygments_lexer": "ipython3",
   "version": "3.9.4"
  }
 },
 "nbformat": 4,
 "nbformat_minor": 5
}
